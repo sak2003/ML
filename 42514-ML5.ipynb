{
 "cells": [
  {
   "cell_type": "code",
   "execution_count": 1,
   "id": "9c30eef2",
   "metadata": {},
   "outputs": [],
   "source": [
    "import pandas as pd\n",
    "from sklearn.model_selection import train_test_split\n",
    "from sklearn.ensemble import RandomForestClassifier\n",
    "from sklearn.metrics import accuracy_score, classification_report"
   ]
  },
  {
   "cell_type": "code",
   "execution_count": 2,
   "id": "74ead949",
   "metadata": {},
   "outputs": [],
   "source": [
    "data = pd.read_csv('car_evaluation.csv')"
   ]
  },
  {
   "cell_type": "code",
   "execution_count": 3,
   "id": "cc55a445",
   "metadata": {},
   "outputs": [],
   "source": [
    "replacement_map = {'vhigh': 4, 'high': 3, 'med': 2, 'low': 1}\n",
    "data['buying'] = data['buying'].replace(replacement_map)\n",
    "\n",
    "replacement_map = {'vhigh': 4, 'high': 3, 'med': 2, 'low': 1}\n",
    "data['maint'] = data['maint'].replace(replacement_map)\n",
    "\n",
    "replacement_map = {'small': 1, 'med': 2, 'big': 3}\n",
    "data['lug_boot'] = data['lug_boot'].replace(replacement_map)"
   ]
  },
  {
   "cell_type": "code",
   "execution_count": 4,
   "id": "62e59537",
   "metadata": {},
   "outputs": [],
   "source": [
    "data = data[~data.apply(lambda row: row.astype(str).str.contains('5more|more').any(), axis=1)]"
   ]
  },
  {
   "cell_type": "code",
   "execution_count": null,
   "id": "59f7a701",
   "metadata": {},
   "outputs": [],
   "source": [
    "X = data.drop('safety', axis=1)\n",
    "y = data['safety']\n",
    "\n",
    "X = data.drop('persons', axis=1)\n",
    "y = data['persons']\n",
    "\n",
    "X = data.drop('lug_boot', axis=1)\n",
    "y = data['lug_boot']"
   ]
  }
 ],
 "metadata": {
  "kernelspec": {
   "display_name": "Python 3 (ipykernel)",
   "language": "python",
   "name": "python3"
  },
  "language_info": {
   "codemirror_mode": {
    "name": "ipython",
    "version": 3
   },
   "file_extension": ".py",
   "mimetype": "text/x-python",
   "name": "python",
   "nbconvert_exporter": "python",
   "pygments_lexer": "ipython3",
   "version": "3.11.5"
  }
 },
 "nbformat": 4,
 "nbformat_minor": 5
}
